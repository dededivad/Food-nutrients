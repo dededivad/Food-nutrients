{
  "nbformat": 4,
  "nbformat_minor": 0,
  "metadata": {
    "colab": {
      "provenance": [],
      "gpuType": "T4"
    },
    "kernelspec": {
      "name": "python3",
      "display_name": "Python 3"
    },
    "language_info": {
      "name": "python"
    },
    "accelerator": "GPU"
  },
  "cells": [
    {
      "cell_type": "markdown",
      "source": [
        "# Dietary Evaluation with Machine Learning\n",
        "\n",
        "### Introduction:\n",
        "This project aims to assist bodybuilders in making optimal dietary choices through machine learning. It was done purely for studying purposes, and to increase my knowledge on Data Science.\\\n",
        "The dataset underwent some preprocessing, including the removal of many columns, removal of rows with missing data and randomization. These are not included in the notebook.\n",
        "\n",
        "<br />\n",
        "\n",
        "### Labeling Process:\n",
        "An experienced friend collaborated to label foods as \"Good/1\" (worth it) or \"Bad/0\" (not worth it) based on their fitness value.\n",
        "\n",
        "<br />\n",
        "\n",
        "### Model Development:\n",
        "I developed machine learning models utilizing the preprocessed dataset to predict food worthiness. Various algorithms were explored to identify the most effective approach.\n",
        "\n"
      ],
      "metadata": {
        "id": "VnaUBKJrjin8"
      }
    },
    {
      "cell_type": "markdown",
      "source": [
        "### Imports and file reading"
      ],
      "metadata": {
        "id": "C9V35-I59Bxn"
      }
    },
    {
      "cell_type": "code",
      "execution_count": null,
      "metadata": {
        "id": "VusC3oHW4BQz"
      },
      "outputs": [],
      "source": [
        "import pandas as pd\n",
        "import numpy as np\n",
        "import matplotlib.pyplot as plt\n",
        "import seaborn as sns"
      ]
    },
    {
      "cell_type": "code",
      "source": [
        "df = pd.read_csv(\"food_db_clean.csv\", sep=\"\\t\")"
      ],
      "metadata": {
        "id": "_KzlPJlL4NXr"
      },
      "execution_count": null,
      "outputs": []
    },
    {
      "cell_type": "markdown",
      "source": [
        "### Cleaning and exploratory analysis"
      ],
      "metadata": {
        "id": "J6nF6N-yEaow"
      }
    },
    {
      "cell_type": "code",
      "source": [
        "df.head(4)"
      ],
      "metadata": {
        "colab": {
          "base_uri": "https://localhost:8080/",
          "height": 175
        },
        "id": "WHXcZsQ4EjdV",
        "outputId": "9ced2e1f-1848-47f6-d0b8-6638ba56aeb9"
      },
      "execution_count": null,
      "outputs": [
        {
          "output_type": "execute_result",
          "data": {
            "text/plain": [
              "   cal   fat     ch sugar protein  label\n",
              "0  582  49,8  24,07  2,73   19,33    0.0\n",
              "1   52  2,26    7,1  2,68    1,87    1.0\n",
              "2  275  3,41   52,2  0,58    9,56    1.0\n",
              "3   47   3,2    2,8     0     1,8    1.0"
            ],
            "text/html": [
              "\n",
              "  <div id=\"df-341660c4-a3d4-4f78-9df6-de5981d26388\" class=\"colab-df-container\">\n",
              "    <div>\n",
              "<style scoped>\n",
              "    .dataframe tbody tr th:only-of-type {\n",
              "        vertical-align: middle;\n",
              "    }\n",
              "\n",
              "    .dataframe tbody tr th {\n",
              "        vertical-align: top;\n",
              "    }\n",
              "\n",
              "    .dataframe thead th {\n",
              "        text-align: right;\n",
              "    }\n",
              "</style>\n",
              "<table border=\"1\" class=\"dataframe\">\n",
              "  <thead>\n",
              "    <tr style=\"text-align: right;\">\n",
              "      <th></th>\n",
              "      <th>cal</th>\n",
              "      <th>fat</th>\n",
              "      <th>ch</th>\n",
              "      <th>sugar</th>\n",
              "      <th>protein</th>\n",
              "      <th>label</th>\n",
              "    </tr>\n",
              "  </thead>\n",
              "  <tbody>\n",
              "    <tr>\n",
              "      <th>0</th>\n",
              "      <td>582</td>\n",
              "      <td>49,8</td>\n",
              "      <td>24,07</td>\n",
              "      <td>2,73</td>\n",
              "      <td>19,33</td>\n",
              "      <td>0.0</td>\n",
              "    </tr>\n",
              "    <tr>\n",
              "      <th>1</th>\n",
              "      <td>52</td>\n",
              "      <td>2,26</td>\n",
              "      <td>7,1</td>\n",
              "      <td>2,68</td>\n",
              "      <td>1,87</td>\n",
              "      <td>1.0</td>\n",
              "    </tr>\n",
              "    <tr>\n",
              "      <th>2</th>\n",
              "      <td>275</td>\n",
              "      <td>3,41</td>\n",
              "      <td>52,2</td>\n",
              "      <td>0,58</td>\n",
              "      <td>9,56</td>\n",
              "      <td>1.0</td>\n",
              "    </tr>\n",
              "    <tr>\n",
              "      <th>3</th>\n",
              "      <td>47</td>\n",
              "      <td>3,2</td>\n",
              "      <td>2,8</td>\n",
              "      <td>0</td>\n",
              "      <td>1,8</td>\n",
              "      <td>1.0</td>\n",
              "    </tr>\n",
              "  </tbody>\n",
              "</table>\n",
              "</div>\n",
              "    <div class=\"colab-df-buttons\">\n",
              "\n",
              "  <div class=\"colab-df-container\">\n",
              "    <button class=\"colab-df-convert\" onclick=\"convertToInteractive('df-341660c4-a3d4-4f78-9df6-de5981d26388')\"\n",
              "            title=\"Convert this dataframe to an interactive table.\"\n",
              "            style=\"display:none;\">\n",
              "\n",
              "  <svg xmlns=\"http://www.w3.org/2000/svg\" height=\"24px\" viewBox=\"0 -960 960 960\">\n",
              "    <path d=\"M120-120v-720h720v720H120Zm60-500h600v-160H180v160Zm220 220h160v-160H400v160Zm0 220h160v-160H400v160ZM180-400h160v-160H180v160Zm440 0h160v-160H620v160ZM180-180h160v-160H180v160Zm440 0h160v-160H620v160Z\"/>\n",
              "  </svg>\n",
              "    </button>\n",
              "\n",
              "  <style>\n",
              "    .colab-df-container {\n",
              "      display:flex;\n",
              "      gap: 12px;\n",
              "    }\n",
              "\n",
              "    .colab-df-convert {\n",
              "      background-color: #E8F0FE;\n",
              "      border: none;\n",
              "      border-radius: 50%;\n",
              "      cursor: pointer;\n",
              "      display: none;\n",
              "      fill: #1967D2;\n",
              "      height: 32px;\n",
              "      padding: 0 0 0 0;\n",
              "      width: 32px;\n",
              "    }\n",
              "\n",
              "    .colab-df-convert:hover {\n",
              "      background-color: #E2EBFA;\n",
              "      box-shadow: 0px 1px 2px rgba(60, 64, 67, 0.3), 0px 1px 3px 1px rgba(60, 64, 67, 0.15);\n",
              "      fill: #174EA6;\n",
              "    }\n",
              "\n",
              "    .colab-df-buttons div {\n",
              "      margin-bottom: 4px;\n",
              "    }\n",
              "\n",
              "    [theme=dark] .colab-df-convert {\n",
              "      background-color: #3B4455;\n",
              "      fill: #D2E3FC;\n",
              "    }\n",
              "\n",
              "    [theme=dark] .colab-df-convert:hover {\n",
              "      background-color: #434B5C;\n",
              "      box-shadow: 0px 1px 3px 1px rgba(0, 0, 0, 0.15);\n",
              "      filter: drop-shadow(0px 1px 2px rgba(0, 0, 0, 0.3));\n",
              "      fill: #FFFFFF;\n",
              "    }\n",
              "  </style>\n",
              "\n",
              "    <script>\n",
              "      const buttonEl =\n",
              "        document.querySelector('#df-341660c4-a3d4-4f78-9df6-de5981d26388 button.colab-df-convert');\n",
              "      buttonEl.style.display =\n",
              "        google.colab.kernel.accessAllowed ? 'block' : 'none';\n",
              "\n",
              "      async function convertToInteractive(key) {\n",
              "        const element = document.querySelector('#df-341660c4-a3d4-4f78-9df6-de5981d26388');\n",
              "        const dataTable =\n",
              "          await google.colab.kernel.invokeFunction('convertToInteractive',\n",
              "                                                    [key], {});\n",
              "        if (!dataTable) return;\n",
              "\n",
              "        const docLinkHtml = 'Like what you see? Visit the ' +\n",
              "          '<a target=\"_blank\" href=https://colab.research.google.com/notebooks/data_table.ipynb>data table notebook</a>'\n",
              "          + ' to learn more about interactive tables.';\n",
              "        element.innerHTML = '';\n",
              "        dataTable['output_type'] = 'display_data';\n",
              "        await google.colab.output.renderOutput(dataTable, element);\n",
              "        const docLink = document.createElement('div');\n",
              "        docLink.innerHTML = docLinkHtml;\n",
              "        element.appendChild(docLink);\n",
              "      }\n",
              "    </script>\n",
              "  </div>\n",
              "\n",
              "\n",
              "<div id=\"df-5d34aaf6-7c38-4935-9166-0953ee104c1f\">\n",
              "  <button class=\"colab-df-quickchart\" onclick=\"quickchart('df-5d34aaf6-7c38-4935-9166-0953ee104c1f')\"\n",
              "            title=\"Suggest charts\"\n",
              "            style=\"display:none;\">\n",
              "\n",
              "<svg xmlns=\"http://www.w3.org/2000/svg\" height=\"24px\"viewBox=\"0 0 24 24\"\n",
              "     width=\"24px\">\n",
              "    <g>\n",
              "        <path d=\"M19 3H5c-1.1 0-2 .9-2 2v14c0 1.1.9 2 2 2h14c1.1 0 2-.9 2-2V5c0-1.1-.9-2-2-2zM9 17H7v-7h2v7zm4 0h-2V7h2v10zm4 0h-2v-4h2v4z\"/>\n",
              "    </g>\n",
              "</svg>\n",
              "  </button>\n",
              "\n",
              "<style>\n",
              "  .colab-df-quickchart {\n",
              "      --bg-color: #E8F0FE;\n",
              "      --fill-color: #1967D2;\n",
              "      --hover-bg-color: #E2EBFA;\n",
              "      --hover-fill-color: #174EA6;\n",
              "      --disabled-fill-color: #AAA;\n",
              "      --disabled-bg-color: #DDD;\n",
              "  }\n",
              "\n",
              "  [theme=dark] .colab-df-quickchart {\n",
              "      --bg-color: #3B4455;\n",
              "      --fill-color: #D2E3FC;\n",
              "      --hover-bg-color: #434B5C;\n",
              "      --hover-fill-color: #FFFFFF;\n",
              "      --disabled-bg-color: #3B4455;\n",
              "      --disabled-fill-color: #666;\n",
              "  }\n",
              "\n",
              "  .colab-df-quickchart {\n",
              "    background-color: var(--bg-color);\n",
              "    border: none;\n",
              "    border-radius: 50%;\n",
              "    cursor: pointer;\n",
              "    display: none;\n",
              "    fill: var(--fill-color);\n",
              "    height: 32px;\n",
              "    padding: 0;\n",
              "    width: 32px;\n",
              "  }\n",
              "\n",
              "  .colab-df-quickchart:hover {\n",
              "    background-color: var(--hover-bg-color);\n",
              "    box-shadow: 0 1px 2px rgba(60, 64, 67, 0.3), 0 1px 3px 1px rgba(60, 64, 67, 0.15);\n",
              "    fill: var(--button-hover-fill-color);\n",
              "  }\n",
              "\n",
              "  .colab-df-quickchart-complete:disabled,\n",
              "  .colab-df-quickchart-complete:disabled:hover {\n",
              "    background-color: var(--disabled-bg-color);\n",
              "    fill: var(--disabled-fill-color);\n",
              "    box-shadow: none;\n",
              "  }\n",
              "\n",
              "  .colab-df-spinner {\n",
              "    border: 2px solid var(--fill-color);\n",
              "    border-color: transparent;\n",
              "    border-bottom-color: var(--fill-color);\n",
              "    animation:\n",
              "      spin 1s steps(1) infinite;\n",
              "  }\n",
              "\n",
              "  @keyframes spin {\n",
              "    0% {\n",
              "      border-color: transparent;\n",
              "      border-bottom-color: var(--fill-color);\n",
              "      border-left-color: var(--fill-color);\n",
              "    }\n",
              "    20% {\n",
              "      border-color: transparent;\n",
              "      border-left-color: var(--fill-color);\n",
              "      border-top-color: var(--fill-color);\n",
              "    }\n",
              "    30% {\n",
              "      border-color: transparent;\n",
              "      border-left-color: var(--fill-color);\n",
              "      border-top-color: var(--fill-color);\n",
              "      border-right-color: var(--fill-color);\n",
              "    }\n",
              "    40% {\n",
              "      border-color: transparent;\n",
              "      border-right-color: var(--fill-color);\n",
              "      border-top-color: var(--fill-color);\n",
              "    }\n",
              "    60% {\n",
              "      border-color: transparent;\n",
              "      border-right-color: var(--fill-color);\n",
              "    }\n",
              "    80% {\n",
              "      border-color: transparent;\n",
              "      border-right-color: var(--fill-color);\n",
              "      border-bottom-color: var(--fill-color);\n",
              "    }\n",
              "    90% {\n",
              "      border-color: transparent;\n",
              "      border-bottom-color: var(--fill-color);\n",
              "    }\n",
              "  }\n",
              "</style>\n",
              "\n",
              "  <script>\n",
              "    async function quickchart(key) {\n",
              "      const quickchartButtonEl =\n",
              "        document.querySelector('#' + key + ' button');\n",
              "      quickchartButtonEl.disabled = true;  // To prevent multiple clicks.\n",
              "      quickchartButtonEl.classList.add('colab-df-spinner');\n",
              "      try {\n",
              "        const charts = await google.colab.kernel.invokeFunction(\n",
              "            'suggestCharts', [key], {});\n",
              "      } catch (error) {\n",
              "        console.error('Error during call to suggestCharts:', error);\n",
              "      }\n",
              "      quickchartButtonEl.classList.remove('colab-df-spinner');\n",
              "      quickchartButtonEl.classList.add('colab-df-quickchart-complete');\n",
              "    }\n",
              "    (() => {\n",
              "      let quickchartButtonEl =\n",
              "        document.querySelector('#df-5d34aaf6-7c38-4935-9166-0953ee104c1f button');\n",
              "      quickchartButtonEl.style.display =\n",
              "        google.colab.kernel.accessAllowed ? 'block' : 'none';\n",
              "    })();\n",
              "  </script>\n",
              "</div>\n",
              "    </div>\n",
              "  </div>\n"
            ]
          },
          "metadata": {},
          "execution_count": 3
        }
      ]
    },
    {
      "cell_type": "code",
      "source": [
        "# Convert columns to numeric\n",
        "df['fat'] = df['fat'].str.replace(',', '.').astype(float)\n",
        "df['ch'] = df['ch'].str.replace(',', '.').astype(float)\n",
        "df['sugar'] = df['sugar'].str.replace(',', '.').astype(float)\n",
        "df['protein'] = df['protein'].str.replace(',', '.').astype(float)"
      ],
      "metadata": {
        "id": "d-OdB0cAFnA0"
      },
      "execution_count": null,
      "outputs": []
    },
    {
      "cell_type": "code",
      "source": [
        "# Changing label values to Good and Bad\n",
        "df['label'] = df['label'].map({1: \"Good\", 0: \"Bad\"})\n",
        "type(df[\"label\"][0])"
      ],
      "metadata": {
        "colab": {
          "base_uri": "https://localhost:8080/"
        },
        "id": "QWFJlb-z_w35",
        "outputId": "28a8d070-8ca9-4f1f-8f67-f98735624521"
      },
      "execution_count": null,
      "outputs": [
        {
          "output_type": "execute_result",
          "data": {
            "text/plain": [
              "str"
            ]
          },
          "metadata": {},
          "execution_count": 5
        }
      ]
    },
    {
      "cell_type": "code",
      "source": [
        "df[\"label\"].value_counts() # about 30/70% rate"
      ],
      "metadata": {
        "colab": {
          "base_uri": "https://localhost:8080/"
        },
        "id": "nO1QbH8G9j5a",
        "outputId": "faaf967b-97e2-48ea-aba4-e90edec2ca11"
      },
      "execution_count": null,
      "outputs": [
        {
          "output_type": "execute_result",
          "data": {
            "text/plain": [
              "Bad     279\n",
              "Good    125\n",
              "Name: label, dtype: int64"
            ]
          },
          "metadata": {},
          "execution_count": 6
        }
      ]
    },
    {
      "cell_type": "code",
      "source": [
        "len(df)"
      ],
      "metadata": {
        "colab": {
          "base_uri": "https://localhost:8080/"
        },
        "id": "quaRDGSfKu2a",
        "outputId": "52cd6322-8289-4f61-f3fb-b8c7af6e451f"
      },
      "execution_count": null,
      "outputs": [
        {
          "output_type": "execute_result",
          "data": {
            "text/plain": [
              "12378"
            ]
          },
          "metadata": {},
          "execution_count": 7
        }
      ]
    },
    {
      "cell_type": "code",
      "source": [
        "# Removing undone labels\n",
        "df = df.dropna(subset=['label'])"
      ],
      "metadata": {
        "id": "j1KC2CFGHz8L"
      },
      "execution_count": null,
      "outputs": []
    },
    {
      "cell_type": "code",
      "source": [
        "len(df)"
      ],
      "metadata": {
        "colab": {
          "base_uri": "https://localhost:8080/"
        },
        "id": "too1tSXnI_8_",
        "outputId": "6faf2398-202c-4dc1-bf5e-5961b9de44b1"
      },
      "execution_count": null,
      "outputs": [
        {
          "output_type": "execute_result",
          "data": {
            "text/plain": [
              "404"
            ]
          },
          "metadata": {},
          "execution_count": 9
        }
      ]
    },
    {
      "cell_type": "code",
      "source": [
        "df.dtypes"
      ],
      "metadata": {
        "colab": {
          "base_uri": "https://localhost:8080/"
        },
        "id": "BVOvWnLnK4EA",
        "outputId": "00251015-7e01-4d49-e789-1920044b7cbf"
      },
      "execution_count": null,
      "outputs": [
        {
          "output_type": "execute_result",
          "data": {
            "text/plain": [
              "cal          int64\n",
              "fat        float64\n",
              "ch         float64\n",
              "sugar      float64\n",
              "protein    float64\n",
              "label       object\n",
              "dtype: object"
            ]
          },
          "metadata": {},
          "execution_count": 10
        }
      ]
    },
    {
      "cell_type": "code",
      "source": [
        "fig, axes = plt.subplots(1, 3, figsize=(15, 5))\n",
        "sns.boxplot(x='label', y='cal', data=df, ax=axes[0])\n",
        "sns.boxplot(x='label', y='fat', data=df, ax=axes[1])\n",
        "sns.boxplot(x='label', y='protein', data=df, ax=axes[2])\n",
        "\n",
        "plt.show()"
      ],
      "metadata": {
        "colab": {
          "base_uri": "https://localhost:8080/",
          "height": 384
        },
        "id": "q348avgxMqaf",
        "outputId": "dd0a422e-5c18-4f17-c843-2d16ae546f0b"
      },
      "execution_count": null,
      "outputs": [
        {
          "output_type": "display_data",
          "data": {
            "text/plain": [
              "<Figure size 1500x500 with 3 Axes>"
            ],
            "image/png": "[encoded data removed]"
          },
          "metadata": {}
        }
      ]
    },
    {
      "cell_type": "code",
      "source": [
        "fig, axes = plt.subplots(1, 2, figsize=(15, 5))\n",
        "sns.boxplot(x='label', y='ch', data=df, ax=axes[0])\n",
        "sns.boxplot(x='label', y='sugar', data=df, ax=axes[1])\n",
        "\n",
        "plt.show()"
      ],
      "metadata": {
        "colab": {
          "base_uri": "https://localhost:8080/",
          "height": 384
        },
        "id": "IO4NUT4HMt5u",
        "outputId": "9cf91b03-ce2d-49c3-9239-9d5ff4dbc965"
      },
      "execution_count": null,
      "outputs": [
        {
          "output_type": "display_data",
          "data": {
            "text/plain": [
              "<Figure size 1500x500 with 2 Axes>"
            ],
            "image/png": "[encoded data removed]"
          },
          "metadata": {}
        }
      ]
    },
    {
      "cell_type": "markdown",
      "source": [
        "We can see that some values are different with the individual labels. It shows us that there is meaning behind them and that they are not random."
      ],
      "metadata": {
        "id": "wY7KkfNIcqRi"
      }
    },
    {
      "cell_type": "code",
      "source": [
        "# Split the data into training and test sets in an 80/20 ratio\n",
        "from sklearn.model_selection import train_test_split\n",
        "\n",
        "features = [\"cal\", \"fat\", \"ch\", \"sugar\", \"protein\"]\n",
        "X = df.loc[:, features]\n",
        "y = df.loc[:, [\"label\"]]\n",
        "\n",
        "X_train, X_test, y_train, y_test = train_test_split(X, y, test_size=0.2, random_state=42)"
      ],
      "metadata": {
        "id": "mIJ-xr17lerP"
      },
      "execution_count": null,
      "outputs": []
    },
    {
      "cell_type": "markdown",
      "source": [
        "## Basic Models\n",
        "\n",
        "First off, I am trying some basic models without doing any changes to the data, like normalizing, or standardizing."
      ],
      "metadata": {
        "id": "SfE7Yf7eeS2g"
      }
    },
    {
      "cell_type": "markdown",
      "source": [
        "###Dummy classifier"
      ],
      "metadata": {
        "id": "ac22XaTilSlm"
      }
    },
    {
      "cell_type": "code",
      "source": [
        "from sklearn.dummy import DummyClassifier\n",
        "from sklearn.metrics import accuracy_score, classification_report"
      ],
      "metadata": {
        "id": "qlbCCzO_rmvw"
      },
      "execution_count": null,
      "outputs": []
    },
    {
      "cell_type": "code",
      "source": [
        "dummy_clf = DummyClassifier(strategy=\"most_frequent\")\n",
        "dummy_clf.fit(X_train, y_train)\n",
        "y_pred = dummy_clf.predict(X_test)\n",
        "score = dummy_clf.score(y_pred, y_test)\n",
        "\n",
        "print(f\"Accuracy: {score:.3f}\")"
      ],
      "metadata": {
        "colab": {
          "base_uri": "https://localhost:8080/"
        },
        "id": "QA5ie2HvemUZ",
        "outputId": "8152e899-d670-4299-81a6-5179d62304f1"
      },
      "execution_count": null,
      "outputs": [
        {
          "output_type": "stream",
          "name": "stdout",
          "text": [
            "Accuracy: 0.728\n"
          ]
        }
      ]
    },
    {
      "cell_type": "code",
      "source": [
        "report = classification_report(y_test, y_pred, zero_division=0.0)\n",
        "print(report)"
      ],
      "metadata": {
        "colab": {
          "base_uri": "https://localhost:8080/"
        },
        "id": "L9qlqCgqy27y",
        "outputId": "3e5a55ef-3c80-4a8d-fd41-6705d530c805"
      },
      "execution_count": null,
      "outputs": [
        {
          "output_type": "stream",
          "name": "stdout",
          "text": [
            "              precision    recall  f1-score   support\n",
            "\n",
            "         Bad       0.73      1.00      0.84        59\n",
            "        Good       0.00      0.00      0.00        22\n",
            "\n",
            "    accuracy                           0.73        81\n",
            "   macro avg       0.36      0.50      0.42        81\n",
            "weighted avg       0.53      0.73      0.61        81\n",
            "\n"
          ]
        }
      ]
    },
    {
      "cell_type": "markdown",
      "source": [
        "### Different classifiers"
      ],
      "metadata": {
        "id": "A0mbhAs0q3q4"
      }
    },
    {
      "cell_type": "code",
      "source": [
        "# Import necessary libraries\n",
        "from sklearn.neighbors import KNeighborsClassifier\n",
        "from sklearn.svm import SVC\n",
        "from sklearn.gaussian_process import GaussianProcessClassifier\n",
        "from sklearn.gaussian_process.kernels import RBF\n",
        "from sklearn.tree import DecisionTreeClassifier\n",
        "from sklearn.ensemble import RandomForestClassifier\n",
        "from sklearn.neural_network import MLPClassifier\n",
        "from sklearn.ensemble import AdaBoostClassifier\n",
        "from sklearn.naive_bayes import GaussianNB\n",
        "from sklearn.discriminant_analysis import QuadraticDiscriminantAnalysis\n",
        "\n",
        "# Define classifiers and their names\n",
        "names = [\n",
        "    \"K-Nearest Neighbors\",\n",
        "    \"Linear Support Vector Machine\",\n",
        "    \"Radial Basis Function Support Vector Machine (RBF SVM)\",\n",
        "    \"Gaussian Process\",\n",
        "    \"Decision Tree\",\n",
        "    \"Random Forest\",\n",
        "    \"Neural Network\",\n",
        "    \"AdaBoost\",\n",
        "    \"Naive Bayes\",\n",
        "    \"Quadratic Discriminant Analysis (QDA)\",\n",
        "]\n",
        "\n",
        "classifiers = [\n",
        "    KNeighborsClassifier(),\n",
        "    SVC(kernel=\"linear\", C=0.025, random_state=42),\n",
        "    SVC(gamma=2, C=1, random_state=42),\n",
        "    GaussianProcessClassifier(1.0 * RBF(1.0), random_state=42),\n",
        "    DecisionTreeClassifier(random_state=42),\n",
        "    RandomForestClassifier(\n",
        "        random_state=42\n",
        "    ),\n",
        "    MLPClassifier(max_iter=1000, random_state=42),\n",
        "    AdaBoostClassifier(random_state=42),\n",
        "    GaussianNB(),\n",
        "    QuadraticDiscriminantAnalysis(),\n",
        "]\n"
      ],
      "metadata": {
        "id": "RfCW7lNYshvM"
      },
      "execution_count": null,
      "outputs": []
    },
    {
      "cell_type": "code",
      "source": [
        "def predict(X_train, X_test, y_train, y_test):\n",
        "  for name, clf in zip(names, classifiers):\n",
        "      clf.fit(X_train, np.ravel(y_train))\n",
        "      y_pred = clf.predict(X_test)\n",
        "      score = clf.score(X_test, np.ravel(y_test))\n",
        "      print(name)\n",
        "      print(f\"Accuracy: {score:.3f}\")\n",
        "      report = classification_report(np.ravel(y_test), y_pred, zero_division=0.0)\n",
        "      print(\"Classification report:\")\n",
        "      print(report)\n",
        "      print(\"-\"*30)"
      ],
      "metadata": {
        "id": "1_FRWE2Er1bt"
      },
      "execution_count": null,
      "outputs": []
    },
    {
      "cell_type": "code",
      "source": [
        "predict(X_train, X_test, y_train, y_test)"
      ],
      "metadata": {
        "colab": {
          "base_uri": "https://localhost:8080/"
        },
        "id": "wqvC6KsPWnlQ",
        "outputId": "72287c61-2cae-48f8-ac2f-dbcf3d8dc40a"
      },
      "execution_count": null,
      "outputs": [
        {
          "output_type": "stream",
          "name": "stdout",
          "text": [
            "K-Nearest Neighbors\n",
            "Accuracy: 0.778\n",
            "Classification report:\n",
            "              precision    recall  f1-score   support\n",
            "\n",
            "         Bad       0.84      0.86      0.85        59\n",
            "        Good       0.60      0.55      0.57        22\n",
            "\n",
            "    accuracy                           0.78        81\n",
            "   macro avg       0.72      0.70      0.71        81\n",
            "weighted avg       0.77      0.78      0.77        81\n",
            "\n",
            "------------------------------\n",
            "Linear Support Vector Machine\n",
            "Accuracy: 0.864\n",
            "Classification report:\n",
            "              precision    recall  f1-score   support\n",
            "\n",
            "         Bad       0.88      0.95      0.91        59\n",
            "        Good       0.82      0.64      0.72        22\n",
            "\n",
            "    accuracy                           0.86        81\n",
            "   macro avg       0.85      0.79      0.81        81\n",
            "weighted avg       0.86      0.86      0.86        81\n",
            "\n",
            "------------------------------\n",
            "Radial Basis Function Support Vector Machine (RBF SVM)\n",
            "Accuracy: 0.728\n",
            "Classification report:\n",
            "              precision    recall  f1-score   support\n",
            "\n",
            "         Bad       0.73      1.00      0.84        59\n",
            "        Good       0.00      0.00      0.00        22\n",
            "\n",
            "    accuracy                           0.73        81\n",
            "   macro avg       0.36      0.50      0.42        81\n",
            "weighted avg       0.53      0.73      0.61        81\n",
            "\n",
            "------------------------------\n",
            "Gaussian Process\n",
            "Accuracy: 0.852\n",
            "Classification report:\n",
            "              precision    recall  f1-score   support\n",
            "\n",
            "         Bad       0.86      0.95      0.90        59\n",
            "        Good       0.81      0.59      0.68        22\n",
            "\n",
            "    accuracy                           0.85        81\n",
            "   macro avg       0.84      0.77      0.79        81\n",
            "weighted avg       0.85      0.85      0.84        81\n",
            "\n",
            "------------------------------\n",
            "Decision Tree\n",
            "Accuracy: 0.778\n",
            "Classification report:\n",
            "              precision    recall  f1-score   support\n",
            "\n",
            "         Bad       0.86      0.83      0.84        59\n",
            "        Good       0.58      0.64      0.61        22\n",
            "\n",
            "    accuracy                           0.78        81\n",
            "   macro avg       0.72      0.73      0.73        81\n",
            "weighted avg       0.78      0.78      0.78        81\n",
            "\n",
            "------------------------------\n",
            "Random Forest\n",
            "Accuracy: 0.827\n",
            "Classification report:\n",
            "              precision    recall  f1-score   support\n",
            "\n",
            "         Bad       0.87      0.90      0.88        59\n",
            "        Good       0.70      0.64      0.67        22\n",
            "\n",
            "    accuracy                           0.83        81\n",
            "   macro avg       0.78      0.77      0.77        81\n",
            "weighted avg       0.82      0.83      0.82        81\n",
            "\n",
            "------------------------------\n",
            "Neural Network\n",
            "Accuracy: 0.877\n",
            "Classification report:\n",
            "              precision    recall  f1-score   support\n",
            "\n",
            "         Bad       0.92      0.92      0.92        59\n",
            "        Good       0.77      0.77      0.77        22\n",
            "\n",
            "    accuracy                           0.88        81\n",
            "   macro avg       0.84      0.84      0.84        81\n",
            "weighted avg       0.88      0.88      0.88        81\n",
            "\n",
            "------------------------------\n",
            "AdaBoost\n",
            "Accuracy: 0.815\n",
            "Classification report:\n",
            "              precision    recall  f1-score   support\n",
            "\n",
            "         Bad       0.88      0.86      0.87        59\n",
            "        Good       0.65      0.68      0.67        22\n",
            "\n",
            "    accuracy                           0.81        81\n",
            "   macro avg       0.77      0.77      0.77        81\n",
            "weighted avg       0.82      0.81      0.82        81\n",
            "\n",
            "------------------------------\n",
            "Naive Bayes\n",
            "Accuracy: 0.605\n",
            "Classification report:\n",
            "              precision    recall  f1-score   support\n",
            "\n",
            "         Bad       0.91      0.51      0.65        59\n",
            "        Good       0.40      0.86      0.54        22\n",
            "\n",
            "    accuracy                           0.60        81\n",
            "   macro avg       0.65      0.69      0.60        81\n",
            "weighted avg       0.77      0.60      0.62        81\n",
            "\n",
            "------------------------------\n",
            "Quadratic Discriminant Analysis (QDA)\n",
            "Accuracy: 0.667\n",
            "Classification report:\n",
            "              precision    recall  f1-score   support\n",
            "\n",
            "         Bad       0.97      0.56      0.71        59\n",
            "        Good       0.45      0.95      0.61        22\n",
            "\n",
            "    accuracy                           0.67        81\n",
            "   macro avg       0.71      0.76      0.66        81\n",
            "weighted avg       0.83      0.67      0.68        81\n",
            "\n",
            "------------------------------\n"
          ]
        }
      ]
    },
    {
      "cell_type": "markdown",
      "source": [
        "## Normalization and standardization"
      ],
      "metadata": {
        "id": "_QwkYIAC4IWW"
      }
    },
    {
      "cell_type": "code",
      "source": [
        "from sklearn.preprocessing import Normalizer\n",
        "normalizer = Normalizer()\n",
        "X_train_normalized = normalizer.fit_transform(X_train)\n",
        "X_test_normalized = normalizer.fit_transform(X_test)\n",
        "\n",
        "predict(X_train_normalized, X_test_normalized, y_train, y_test)"
      ],
      "metadata": {
        "colab": {
          "base_uri": "https://localhost:8080/"
        },
        "id": "J1rePa287-pW",
        "outputId": "cf5b6397-ea11-472e-a6ef-9c2586b8398a"
      },
      "execution_count": null,
      "outputs": [
        {
          "output_type": "stream",
          "name": "stdout",
          "text": [
            "K-Nearest Neighbors\n",
            "Accuracy: 0.802\n",
            "Classification report:\n",
            "              precision    recall  f1-score   support\n",
            "\n",
            "         Bad       0.85      0.88      0.87        59\n",
            "        Good       0.65      0.59      0.62        22\n",
            "\n",
            "    accuracy                           0.80        81\n",
            "   macro avg       0.75      0.74      0.74        81\n",
            "weighted avg       0.80      0.80      0.80        81\n",
            "\n",
            "------------------------------\n",
            "Linear Support Vector Machine\n",
            "Accuracy: 0.728\n",
            "Classification report:\n",
            "              precision    recall  f1-score   support\n",
            "\n",
            "         Bad       0.73      1.00      0.84        59\n",
            "        Good       0.00      0.00      0.00        22\n",
            "\n",
            "    accuracy                           0.73        81\n",
            "   macro avg       0.36      0.50      0.42        81\n",
            "weighted avg       0.53      0.73      0.61        81\n",
            "\n",
            "------------------------------\n",
            "Radial Basis Function Support Vector Machine (RBF SVM)\n",
            "Accuracy: 0.802\n",
            "Classification report:\n",
            "              precision    recall  f1-score   support\n",
            "\n",
            "         Bad       0.79      1.00      0.88        59\n",
            "        Good       1.00      0.27      0.43        22\n",
            "\n",
            "    accuracy                           0.80        81\n",
            "   macro avg       0.89      0.64      0.65        81\n",
            "weighted avg       0.84      0.80      0.76        81\n",
            "\n",
            "------------------------------\n",
            "Gaussian Process\n",
            "Accuracy: 0.840\n",
            "Classification report:\n",
            "              precision    recall  f1-score   support\n",
            "\n",
            "         Bad       0.91      0.86      0.89        59\n",
            "        Good       0.68      0.77      0.72        22\n",
            "\n",
            "    accuracy                           0.84        81\n",
            "   macro avg       0.80      0.82      0.81        81\n",
            "weighted avg       0.85      0.84      0.84        81\n",
            "\n",
            "------------------------------\n",
            "Decision Tree\n",
            "Accuracy: 0.765\n",
            "Classification report:\n",
            "              precision    recall  f1-score   support\n",
            "\n",
            "         Bad       0.86      0.81      0.83        59\n",
            "        Good       0.56      0.64      0.60        22\n",
            "\n",
            "    accuracy                           0.77        81\n",
            "   macro avg       0.71      0.72      0.72        81\n",
            "weighted avg       0.78      0.77      0.77        81\n",
            "\n",
            "------------------------------\n",
            "Random Forest\n",
            "Accuracy: 0.802\n",
            "Classification report:\n",
            "              precision    recall  f1-score   support\n",
            "\n",
            "         Bad       0.86      0.86      0.86        59\n",
            "        Good       0.64      0.64      0.64        22\n",
            "\n",
            "    accuracy                           0.80        81\n",
            "   macro avg       0.75      0.75      0.75        81\n",
            "weighted avg       0.80      0.80      0.80        81\n",
            "\n",
            "------------------------------\n",
            "Neural Network\n",
            "Accuracy: 0.864\n",
            "Classification report:\n",
            "              precision    recall  f1-score   support\n",
            "\n",
            "         Bad       0.89      0.93      0.91        59\n",
            "        Good       0.79      0.68      0.73        22\n",
            "\n",
            "    accuracy                           0.86        81\n",
            "   macro avg       0.84      0.81      0.82        81\n",
            "weighted avg       0.86      0.86      0.86        81\n",
            "\n",
            "------------------------------\n",
            "AdaBoost\n",
            "Accuracy: 0.815\n",
            "Classification report:\n",
            "              precision    recall  f1-score   support\n",
            "\n",
            "         Bad       0.85      0.90      0.88        59\n",
            "        Good       0.68      0.59      0.63        22\n",
            "\n",
            "    accuracy                           0.81        81\n",
            "   macro avg       0.77      0.74      0.76        81\n",
            "weighted avg       0.81      0.81      0.81        81\n",
            "\n",
            "------------------------------\n",
            "Naive Bayes\n",
            "Accuracy: 0.864\n",
            "Classification report:\n",
            "              precision    recall  f1-score   support\n",
            "\n",
            "         Bad       0.84      1.00      0.91        59\n",
            "        Good       1.00      0.50      0.67        22\n",
            "\n",
            "    accuracy                           0.86        81\n",
            "   macro avg       0.92      0.75      0.79        81\n",
            "weighted avg       0.89      0.86      0.85        81\n",
            "\n",
            "------------------------------\n",
            "Quadratic Discriminant Analysis (QDA)\n",
            "Accuracy: 0.864\n",
            "Classification report:\n",
            "              precision    recall  f1-score   support\n",
            "\n",
            "         Bad       0.85      0.98      0.91        59\n",
            "        Good       0.92      0.55      0.69        22\n",
            "\n",
            "    accuracy                           0.86        81\n",
            "   macro avg       0.89      0.76      0.80        81\n",
            "weighted avg       0.87      0.86      0.85        81\n",
            "\n",
            "------------------------------\n"
          ]
        }
      ]
    },
    {
      "cell_type": "code",
      "source": [
        "from sklearn.preprocessing import MinMaxScaler\n",
        "scaler = MinMaxScaler()\n",
        "X_train_scaled = scaler.fit_transform(X_train)\n",
        "X_test_scaled = scaler.fit_transform(X_test)\n",
        "\n",
        "predict(X_train_scaled, X_test_scaled, y_train, y_test)"
      ],
      "metadata": {
        "colab": {
          "base_uri": "https://localhost:8080/"
        },
        "id": "Eiwh4M5ZArFJ",
        "outputId": "c39d56a0-532c-4e4c-9f9c-1eb21c1885e8"
      },
      "execution_count": null,
      "outputs": [
        {
          "output_type": "stream",
          "name": "stdout",
          "text": [
            "K-Nearest Neighbors\n",
            "Accuracy: 0.864\n",
            "Classification report:\n",
            "              precision    recall  f1-score   support\n",
            "\n",
            "         Bad       0.90      0.92      0.91        59\n",
            "        Good       0.76      0.73      0.74        22\n",
            "\n",
            "    accuracy                           0.86        81\n",
            "   macro avg       0.83      0.82      0.83        81\n",
            "weighted avg       0.86      0.86      0.86        81\n",
            "\n",
            "------------------------------\n",
            "Linear Support Vector Machine\n",
            "Accuracy: 0.728\n",
            "Classification report:\n",
            "              precision    recall  f1-score   support\n",
            "\n",
            "         Bad       0.73      1.00      0.84        59\n",
            "        Good       0.00      0.00      0.00        22\n",
            "\n",
            "    accuracy                           0.73        81\n",
            "   macro avg       0.36      0.50      0.42        81\n",
            "weighted avg       0.53      0.73      0.61        81\n",
            "\n",
            "------------------------------\n",
            "Radial Basis Function Support Vector Machine (RBF SVM)\n",
            "Accuracy: 0.852\n",
            "Classification report:\n",
            "              precision    recall  f1-score   support\n",
            "\n",
            "         Bad       0.86      0.95      0.90        59\n",
            "        Good       0.81      0.59      0.68        22\n",
            "\n",
            "    accuracy                           0.85        81\n",
            "   macro avg       0.84      0.77      0.79        81\n",
            "weighted avg       0.85      0.85      0.84        81\n",
            "\n",
            "------------------------------\n",
            "Gaussian Process\n",
            "Accuracy: 0.827\n",
            "Classification report:\n",
            "              precision    recall  f1-score   support\n",
            "\n",
            "         Bad       0.85      0.93      0.89        59\n",
            "        Good       0.75      0.55      0.63        22\n",
            "\n",
            "    accuracy                           0.83        81\n",
            "   macro avg       0.80      0.74      0.76        81\n",
            "weighted avg       0.82      0.83      0.82        81\n",
            "\n",
            "------------------------------\n",
            "Decision Tree\n",
            "Accuracy: 0.802\n",
            "Classification report:\n",
            "              precision    recall  f1-score   support\n",
            "\n",
            "         Bad       0.85      0.88      0.87        59\n",
            "        Good       0.65      0.59      0.62        22\n",
            "\n",
            "    accuracy                           0.80        81\n",
            "   macro avg       0.75      0.74      0.74        81\n",
            "weighted avg       0.80      0.80      0.80        81\n",
            "\n",
            "------------------------------\n",
            "Random Forest\n",
            "Accuracy: 0.852\n",
            "Classification report:\n",
            "              precision    recall  f1-score   support\n",
            "\n",
            "         Bad       0.85      0.97      0.90        59\n",
            "        Good       0.86      0.55      0.67        22\n",
            "\n",
            "    accuracy                           0.85        81\n",
            "   macro avg       0.85      0.76      0.79        81\n",
            "weighted avg       0.85      0.85      0.84        81\n",
            "\n",
            "------------------------------\n",
            "Neural Network\n",
            "Accuracy: 0.864\n",
            "Classification report:\n",
            "              precision    recall  f1-score   support\n",
            "\n",
            "         Bad       0.89      0.93      0.91        59\n",
            "        Good       0.79      0.68      0.73        22\n",
            "\n",
            "    accuracy                           0.86        81\n",
            "   macro avg       0.84      0.81      0.82        81\n",
            "weighted avg       0.86      0.86      0.86        81\n",
            "\n",
            "------------------------------\n",
            "AdaBoost\n",
            "Accuracy: 0.790\n",
            "Classification report:\n",
            "              precision    recall  f1-score   support\n",
            "\n",
            "         Bad       0.85      0.86      0.86        59\n",
            "        Good       0.62      0.59      0.60        22\n",
            "\n",
            "    accuracy                           0.79        81\n",
            "   macro avg       0.73      0.73      0.73        81\n",
            "weighted avg       0.79      0.79      0.79        81\n",
            "\n",
            "------------------------------\n",
            "Naive Bayes\n",
            "Accuracy: 0.654\n",
            "Classification report:\n",
            "              precision    recall  f1-score   support\n",
            "\n",
            "         Bad       0.90      0.59      0.71        59\n",
            "        Good       0.43      0.82      0.56        22\n",
            "\n",
            "    accuracy                           0.65        81\n",
            "   macro avg       0.66      0.71      0.64        81\n",
            "weighted avg       0.77      0.65      0.67        81\n",
            "\n",
            "------------------------------\n",
            "Quadratic Discriminant Analysis (QDA)\n",
            "Accuracy: 0.667\n",
            "Classification report:\n",
            "              precision    recall  f1-score   support\n",
            "\n",
            "         Bad       0.72      0.88      0.79        59\n",
            "        Good       0.22      0.09      0.13        22\n",
            "\n",
            "    accuracy                           0.67        81\n",
            "   macro avg       0.47      0.49      0.46        81\n",
            "weighted avg       0.59      0.67      0.61        81\n",
            "\n",
            "------------------------------\n"
          ]
        }
      ]
    },
    {
      "cell_type": "code",
      "source": [
        "from sklearn.preprocessing import StandardScaler\n",
        "standardizer = StandardScaler()\n",
        "X_train_standardized = standardizer.fit_transform(X_train)\n",
        "X_test_standardized = standardizer.fit_transform(X_test)\n",
        "\n",
        "predict(X_train_standardized, X_test_standardized, y_train, y_test)"
      ],
      "metadata": {
        "colab": {
          "base_uri": "https://localhost:8080/"
        },
        "id": "IhqMvylRBo33",
        "outputId": "2f81f3c8-c872-44f7-a73e-bb974b7a6b63"
      },
      "execution_count": null,
      "outputs": [
        {
          "output_type": "stream",
          "name": "stdout",
          "text": [
            "K-Nearest Neighbors\n",
            "Accuracy: 0.840\n",
            "Classification report:\n",
            "              precision    recall  f1-score   support\n",
            "\n",
            "         Bad       0.91      0.86      0.89        59\n",
            "        Good       0.68      0.77      0.72        22\n",
            "\n",
            "    accuracy                           0.84        81\n",
            "   macro avg       0.80      0.82      0.81        81\n",
            "weighted avg       0.85      0.84      0.84        81\n",
            "\n",
            "------------------------------\n",
            "Linear Support Vector Machine\n",
            "Accuracy: 0.852\n",
            "Classification report:\n",
            "              precision    recall  f1-score   support\n",
            "\n",
            "         Bad       0.84      0.98      0.91        59\n",
            "        Good       0.92      0.50      0.65        22\n",
            "\n",
            "    accuracy                           0.85        81\n",
            "   macro avg       0.88      0.74      0.78        81\n",
            "weighted avg       0.86      0.85      0.84        81\n",
            "\n",
            "------------------------------\n",
            "Radial Basis Function Support Vector Machine (RBF SVM)\n",
            "Accuracy: 0.840\n",
            "Classification report:\n",
            "              precision    recall  f1-score   support\n",
            "\n",
            "         Bad       0.85      0.95      0.90        59\n",
            "        Good       0.80      0.55      0.65        22\n",
            "\n",
            "    accuracy                           0.84        81\n",
            "   macro avg       0.82      0.75      0.77        81\n",
            "weighted avg       0.84      0.84      0.83        81\n",
            "\n",
            "------------------------------\n",
            "Gaussian Process\n",
            "Accuracy: 0.877\n",
            "Classification report:\n",
            "              precision    recall  f1-score   support\n",
            "\n",
            "         Bad       0.96      0.86      0.91        59\n",
            "        Good       0.71      0.91      0.80        22\n",
            "\n",
            "    accuracy                           0.88        81\n",
            "   macro avg       0.84      0.89      0.86        81\n",
            "weighted avg       0.89      0.88      0.88        81\n",
            "\n",
            "------------------------------\n",
            "Decision Tree\n",
            "Accuracy: 0.778\n",
            "Classification report:\n",
            "              precision    recall  f1-score   support\n",
            "\n",
            "         Bad       0.89      0.80      0.84        59\n",
            "        Good       0.57      0.73      0.64        22\n",
            "\n",
            "    accuracy                           0.78        81\n",
            "   macro avg       0.73      0.76      0.74        81\n",
            "weighted avg       0.80      0.78      0.79        81\n",
            "\n",
            "------------------------------\n",
            "Random Forest\n",
            "Accuracy: 0.852\n",
            "Classification report:\n",
            "              precision    recall  f1-score   support\n",
            "\n",
            "         Bad       0.89      0.92      0.90        59\n",
            "        Good       0.75      0.68      0.71        22\n",
            "\n",
            "    accuracy                           0.85        81\n",
            "   macro avg       0.82      0.80      0.81        81\n",
            "weighted avg       0.85      0.85      0.85        81\n",
            "\n",
            "------------------------------\n",
            "Neural Network\n",
            "Accuracy: 0.852\n",
            "Classification report:\n",
            "              precision    recall  f1-score   support\n",
            "\n",
            "         Bad       0.96      0.83      0.89        59\n",
            "        Good       0.67      0.91      0.77        22\n",
            "\n",
            "    accuracy                           0.85        81\n",
            "   macro avg       0.81      0.87      0.83        81\n",
            "weighted avg       0.88      0.85      0.86        81\n",
            "\n",
            "------------------------------\n",
            "AdaBoost\n",
            "Accuracy: 0.802\n",
            "Classification report:\n",
            "              precision    recall  f1-score   support\n",
            "\n",
            "         Bad       0.86      0.86      0.86        59\n",
            "        Good       0.64      0.64      0.64        22\n",
            "\n",
            "    accuracy                           0.80        81\n",
            "   macro avg       0.75      0.75      0.75        81\n",
            "weighted avg       0.80      0.80      0.80        81\n",
            "\n",
            "------------------------------\n",
            "Naive Bayes\n",
            "Accuracy: 0.630\n",
            "Classification report:\n",
            "              precision    recall  f1-score   support\n",
            "\n",
            "         Bad       0.87      0.58      0.69        59\n",
            "        Good       0.40      0.77      0.53        22\n",
            "\n",
            "    accuracy                           0.63        81\n",
            "   macro avg       0.64      0.67      0.61        81\n",
            "weighted avg       0.74      0.63      0.65        81\n",
            "\n",
            "------------------------------\n",
            "Quadratic Discriminant Analysis (QDA)\n",
            "Accuracy: 0.753\n",
            "Classification report:\n",
            "              precision    recall  f1-score   support\n",
            "\n",
            "         Bad       0.82      0.85      0.83        59\n",
            "        Good       0.55      0.50      0.52        22\n",
            "\n",
            "    accuracy                           0.75        81\n",
            "   macro avg       0.68      0.67      0.68        81\n",
            "weighted avg       0.75      0.75      0.75        81\n",
            "\n",
            "------------------------------\n"
          ]
        }
      ]
    },
    {
      "cell_type": "markdown",
      "source": [
        "### Hyperparameter tuning"
      ],
      "metadata": {
        "id": "Mg0pjPbbDvto"
      }
    },
    {
      "cell_type": "markdown",
      "source": [
        "Now that we have a good model, let's try tuning it to give even better results"
      ],
      "metadata": {
        "id": "RFuHaVTzDy_z"
      }
    },
    {
      "cell_type": "code",
      "source": [
        "import warnings\n",
        "warnings.filterwarnings('ignore')"
      ],
      "metadata": {
        "id": "UEW-MXUdrcfw"
      },
      "execution_count": null,
      "outputs": []
    },
    {
      "cell_type": "code",
      "source": [
        "# This code runs for about 7 mins\n",
        "\n",
        "from sklearn.model_selection import GridSearchCV\n",
        "\n",
        "param_grid = {\n",
        "    'alpha': [0.0001, 0.001, 0.01, 0.1, 1.0],\n",
        "    'activation': ['relu', 'tanh'],\n",
        "    'max_iter': [1000, 5000],\n",
        "    'random_state': [42]\n",
        "}\n",
        "\n",
        "data_versions = {\n",
        "    'Original': (X_train, X_test),\n",
        "    'Normalized': (X_train_normalized, X_test_normalized),\n",
        "    'Scaled': (X_train_scaled, X_test_scaled),\n",
        "    'Standardized': (X_train_standardized, X_test_standardized)\n",
        "}\n",
        "\n",
        "for version, (X_train_version, X_test_version) in data_versions.items():\n",
        "    grid_search = GridSearchCV(MLPClassifier(), param_grid, cv=5, scoring='accuracy')\n",
        "    grid_search.fit(X_train_version, np.ravel(y_train))\n",
        "\n",
        "    print(f\"\\nBest Hyperparameters ({version}):\", grid_search.best_params_)\n",
        "\n",
        "    best_model = grid_search.best_estimator_\n",
        "    y_pred = best_model.predict(X_test_version)\n",
        "    accuracy = accuracy_score(y_test, y_pred)\n",
        "    print(f\"Test Set Accuracy ({version}):\", accuracy)"
      ],
      "metadata": {
        "id": "MhLLxnUxDyKT",
        "colab": {
          "base_uri": "https://localhost:8080/"
        },
        "outputId": "f4aeec10-a3fb-4fab-fdb3-f5f65d36f65d"
      },
      "execution_count": null,
      "outputs": [
        {
          "output_type": "stream",
          "name": "stdout",
          "text": [
            "\n",
            "Best Hyperparameters (Original): {'activation': 'tanh', 'alpha': 0.0001, 'max_iter': 1000, 'random_state': 42}\n",
            "Test Set Accuracy (Original): 0.8518518518518519\n",
            "\n",
            "Best Hyperparameters (Normalized): {'activation': 'relu', 'alpha': 0.01, 'max_iter': 1000, 'random_state': 42}\n",
            "Test Set Accuracy (Normalized): 0.8765432098765432\n",
            "\n",
            "Best Hyperparameters (Scaled): {'activation': 'relu', 'alpha': 0.0001, 'max_iter': 1000, 'random_state': 42}\n",
            "Test Set Accuracy (Scaled): 0.8641975308641975\n",
            "\n",
            "Best Hyperparameters (Standardized): {'activation': 'tanh', 'alpha': 1.0, 'max_iter': 1000, 'random_state': 42}\n",
            "Test Set Accuracy (Standardized): 0.8765432098765432\n"
          ]
        }
      ]
    },
    {
      "cell_type": "markdown",
      "source": [
        "### Try it yourself"
      ],
      "metadata": {
        "id": "pUjsLN37uNjw"
      }
    },
    {
      "cell_type": "code",
      "source": [
        "best = MLPClassifier(activation=\"relu\", alpha=0.01, max_iter=1000, random_state=42)\n",
        "best.fit(X_train_normalized, np.ravel(y_train))"
      ],
      "metadata": {
        "colab": {
          "base_uri": "https://localhost:8080/",
          "height": 75
        },
        "id": "qFOllXJlwVzb",
        "outputId": "078bf01e-6b1c-405b-e928-d7a7208cd638"
      },
      "execution_count": null,
      "outputs": [
        {
          "output_type": "execute_result",
          "data": {
            "text/plain": [
              "MLPClassifier(alpha=0.01, max_iter=1000, random_state=42)"
            ],
            "text/html": [
              "<style>#sk-container-id-1 {color: black;background-color: white;}#sk-container-id-1 pre{padding: 0;}#sk-container-id-1 div.sk-toggleable {background-color: white;}#sk-container-id-1 label.sk-toggleable__label {cursor: pointer;display: block;width: 100%;margin-bottom: 0;padding: 0.3em;box-sizing: border-box;text-align: center;}#sk-container-id-1 label.sk-toggleable__label-arrow:before {content: \"▸\";float: left;margin-right: 0.25em;color: #696969;}#sk-container-id-1 label.sk-toggleable__label-arrow:hover:before {color: black;}#sk-container-id-1 div.sk-estimator:hover label.sk-toggleable__label-arrow:before {color: black;}#sk-container-id-1 div.sk-toggleable__content {max-height: 0;max-width: 0;overflow: hidden;text-align: left;background-color: #f0f8ff;}#sk-container-id-1 div.sk-toggleable__content pre {margin: 0.2em;color: black;border-radius: 0.25em;background-color: #f0f8ff;}#sk-container-id-1 input.sk-toggleable__control:checked~div.sk-toggleable__content {max-height: 200px;max-width: 100%;overflow: auto;}#sk-container-id-1 input.sk-toggleable__control:checked~label.sk-toggleable__label-arrow:before {content: \"▾\";}#sk-container-id-1 div.sk-estimator input.sk-toggleable__control:checked~label.sk-toggleable__label {background-color: #d4ebff;}#sk-container-id-1 div.sk-label input.sk-toggleable__control:checked~label.sk-toggleable__label {background-color: #d4ebff;}#sk-container-id-1 input.sk-hidden--visually {border: 0;clip: rect(1px 1px 1px 1px);clip: rect(1px, 1px, 1px, 1px);height: 1px;margin: -1px;overflow: hidden;padding: 0;position: absolute;width: 1px;}#sk-container-id-1 div.sk-estimator {font-family: monospace;background-color: #f0f8ff;border: 1px dotted black;border-radius: 0.25em;box-sizing: border-box;margin-bottom: 0.5em;}#sk-container-id-1 div.sk-estimator:hover {background-color: #d4ebff;}#sk-container-id-1 div.sk-parallel-item::after {content: \"\";width: 100%;border-bottom: 1px solid gray;flex-grow: 1;}#sk-container-id-1 div.sk-label:hover label.sk-toggleable__label {background-color: #d4ebff;}#sk-container-id-1 div.sk-serial::before {content: \"\";position: absolute;border-left: 1px solid gray;box-sizing: border-box;top: 0;bottom: 0;left: 50%;z-index: 0;}#sk-container-id-1 div.sk-serial {display: flex;flex-direction: column;align-items: center;background-color: white;padding-right: 0.2em;padding-left: 0.2em;position: relative;}#sk-container-id-1 div.sk-item {position: relative;z-index: 1;}#sk-container-id-1 div.sk-parallel {display: flex;align-items: stretch;justify-content: center;background-color: white;position: relative;}#sk-container-id-1 div.sk-item::before, #sk-container-id-1 div.sk-parallel-item::before {content: \"\";position: absolute;border-left: 1px solid gray;box-sizing: border-box;top: 0;bottom: 0;left: 50%;z-index: -1;}#sk-container-id-1 div.sk-parallel-item {display: flex;flex-direction: column;z-index: 1;position: relative;background-color: white;}#sk-container-id-1 div.sk-parallel-item:first-child::after {align-self: flex-end;width: 50%;}#sk-container-id-1 div.sk-parallel-item:last-child::after {align-self: flex-start;width: 50%;}#sk-container-id-1 div.sk-parallel-item:only-child::after {width: 0;}#sk-container-id-1 div.sk-dashed-wrapped {border: 1px dashed gray;margin: 0 0.4em 0.5em 0.4em;box-sizing: border-box;padding-bottom: 0.4em;background-color: white;}#sk-container-id-1 div.sk-label label {font-family: monospace;font-weight: bold;display: inline-block;line-height: 1.2em;}#sk-container-id-1 div.sk-label-container {text-align: center;}#sk-container-id-1 div.sk-container {/* jupyter's `normalize.less` sets `[hidden] { display: none; }` but bootstrap.min.css set `[hidden] { display: none !important; }` so we also need the `!important` here to be able to override the default hidden behavior on the sphinx rendered scikit-learn.org. See: https://github.com/scikit-learn/scikit-learn/issues/21755 */display: inline-block !important;position: relative;}#sk-container-id-1 div.sk-text-repr-fallback {display: none;}</style><div id=\"sk-container-id-1\" class=\"sk-top-container\"><div class=\"sk-text-repr-fallback\"><pre>MLPClassifier(alpha=0.01, max_iter=1000, random_state=42)</pre><b>In a Jupyter environment, please rerun this cell to show the HTML representation or trust the notebook. <br />On GitHub, the HTML representation is unable to render, please try loading this page with nbviewer.org.</b></div><div class=\"sk-container\" hidden><div class=\"sk-item\"><div class=\"sk-estimator sk-toggleable\"><input class=\"sk-toggleable__control sk-hidden--visually\" id=\"sk-estimator-id-1\" type=\"checkbox\" checked><label for=\"sk-estimator-id-1\" class=\"sk-toggleable__label sk-toggleable__label-arrow\">MLPClassifier</label><div class=\"sk-toggleable__content\"><pre>MLPClassifier(alpha=0.01, max_iter=1000, random_state=42)</pre></div></div></div></div></div>"
            ]
          },
          "metadata": {},
          "execution_count": 30
        }
      ]
    },
    {
      "cell_type": "code",
      "source": [
        "# Write in the values you want to try\n",
        "features = {\n",
        "    'calories': 300,\n",
        "    'fat': 10,\n",
        "    'carbohydrates': 10,\n",
        "    'sugar': 2,\n",
        "    'protein': 3\n",
        "}\n",
        "\n",
        "values = np.array([[features[feature] for feature in features]])\n",
        "best_pred = best.predict(values)\n",
        "print(f\"Predicted label: {best_pred[0]}\")"
      ],
      "metadata": {
        "colab": {
          "base_uri": "https://localhost:8080/"
        },
        "id": "F6pnrD12uM0I",
        "outputId": "3d199e1a-8e46-4b7e-fd9f-e9d0cd7a9aeb"
      },
      "execution_count": null,
      "outputs": [
        {
          "output_type": "stream",
          "name": "stdout",
          "text": [
            "Predicted label: Bad\n"
          ]
        }
      ]
    }
  ]
}